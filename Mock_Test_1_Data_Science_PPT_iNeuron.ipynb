{
  "nbformat": 4,
  "nbformat_minor": 0,
  "metadata": {
    "colab": {
      "provenance": [],
      "authorship_tag": "ABX9TyOVipP/DJG12o+Y6nasElEI",
      "include_colab_link": true
    },
    "kernelspec": {
      "name": "python3",
      "display_name": "Python 3"
    },
    "language_info": {
      "name": "python"
    }
  },
  "cells": [
    {
      "cell_type": "markdown",
      "metadata": {
        "id": "view-in-github",
        "colab_type": "text"
      },
      "source": [
        "<a href=\"https://colab.research.google.com/github/YogenderKushwaha/iNeuronAssignment/blob/main/Mock_Test_1_Data_Science_PPT_iNeuron.ipynb\" target=\"_parent\"><img src=\"https://colab.research.google.com/assets/colab-badge.svg\" alt=\"Open In Colab\"/></a>"
      ]
    },
    {
      "cell_type": "markdown",
      "source": [
        "# 17.\n",
        "Write a function that takes a list of numbers as input and returns a new list containing only the even numbers from the input list. Use list comprehension to solve this problem.\n",
        "\n",
        "Example:\n",
        "\n",
        "Input: [1, 2, 3, 4, 5, 6, 7, 8, 9, 10]\n",
        "\n",
        "Output: [2, 4, 6, 8, 10]"
      ],
      "metadata": {
        "id": "zxYyD4HeUI5R"
      }
    },
    {
      "cell_type": "code",
      "source": [
        "l1 = [1, 2, 3, 4, 5, 6, 7, 8, 9, 10]\n",
        "new_list = [i for i in l1 if i%2 ==0 ]\n",
        "new_list"
      ],
      "metadata": {
        "colab": {
          "base_uri": "https://localhost:8080/"
        },
        "id": "S_RLFZdyUHWB",
        "outputId": "b4506b4a-761b-4a78-99e7-b443ea4ef25f"
      },
      "execution_count": 3,
      "outputs": [
        {
          "output_type": "execute_result",
          "data": {
            "text/plain": [
              "[2, 4, 6, 8, 10]"
            ]
          },
          "metadata": {},
          "execution_count": 3
        }
      ]
    },
    {
      "cell_type": "markdown",
      "source": [
        "# 18.\n",
        "Implement a decorator function called ‘timer’ that measures the execution time of a function. The ‘timer’ decorator should print the time taken by the decorated function to execute. Use the ‘time’ module in Python to calculate the execution time.\n",
        "\n",
        "Example:\n",
        "\n",
        "import time\n",
        "\n",
        "@timer\n",
        "def my_function():\n",
        "    # Function code goes here\n",
        "    time.sleep(2)\n",
        "\n",
        "my_function()\n",
        "\n",
        "Output:\n",
        "\"Execution time: 2.00123 seconds\""
      ],
      "metadata": {
        "id": "eW_ylXWSUyHx"
      }
    },
    {
      "cell_type": "code",
      "source": [
        "import datetime\n",
        "\n",
        "def timer(func):\n",
        "  def wrapper_method(*args):\n",
        "    start_time = datetime.datetime.now()\n",
        "    result = func(*args)\n",
        "    end_time = datetime.datetime.now()\n",
        "    time_taken = end_time - start_time\n",
        "    time_taken = time_taken.total_seconds()\n",
        "    print(\"Time taken by function is: {:.9f}\".format(time_taken))\n",
        "    return result\n",
        "  return wrapper_method"
      ],
      "metadata": {
        "id": "MxcHm_FoUfde"
      },
      "execution_count": 36,
      "outputs": []
    },
    {
      "cell_type": "code",
      "source": [
        "@timer\n",
        "def evennum(l):\n",
        "  new_list = [i for i in l1 if i%2 ==0 ]\n",
        "  return new_list"
      ],
      "metadata": {
        "id": "LMFY7llnYII5"
      },
      "execution_count": 39,
      "outputs": []
    },
    {
      "cell_type": "code",
      "source": [
        "l1 = [1, 2, 3, 4, 5, 6, 7, 8, 9, 10,12,13,15,10,230,234,234453,343,5432,23,546,325,32,5,23,523]\n",
        "evennum(l1)"
      ],
      "metadata": {
        "colab": {
          "base_uri": "https://localhost:8080/"
        },
        "id": "H35FdXoCYKxG",
        "outputId": "368fcf5c-e3fd-4fe0-be07-69dc0a7bbe9d"
      },
      "execution_count": 40,
      "outputs": [
        {
          "output_type": "stream",
          "name": "stdout",
          "text": [
            "Time taken by function is: 0.000007000\n"
          ]
        },
        {
          "output_type": "execute_result",
          "data": {
            "text/plain": [
              "[2, 4, 6, 8, 10, 12, 10, 230, 234, 5432, 546, 32]"
            ]
          },
          "metadata": {},
          "execution_count": 40
        }
      ]
    },
    {
      "cell_type": "markdown",
      "source": [
        "# 19.\n",
        "Write a function called ‘calculate_mean’ that takes a list of numbers as input and returns the mean (average) of the numbers. The function should calculate the mean using the sum of the numbers divided by the total count.\n",
        "\n",
        "Example:\n",
        "\n",
        "def calculate_mean(numbers):\n",
        "    total = sum(numbers)\n",
        "    count = len(numbers)\n",
        "    mean = total / count\n",
        "    return mean\n",
        "\n",
        "data = [10, 15, 20, 25, 30]\n",
        "mean_value = calculate_mean(data)\n",
        "print(\"Mean:\", mean_value)\n",
        "\n",
        "Output:\n",
        "Mean: 20.0"
      ],
      "metadata": {
        "id": "Hgtbthwujmv6"
      }
    },
    {
      "cell_type": "code",
      "source": [
        "def calculate_mean(l):\n",
        "  sum = 0\n",
        "  for i in l:\n",
        "    sum = sum + i\n",
        "  return round(sum/len(l),2)\n",
        "\n",
        "l = [10, 15, 20, 25, 30]\n",
        "calculate_mean(l)"
      ],
      "metadata": {
        "colab": {
          "base_uri": "https://localhost:8080/"
        },
        "id": "vpIQpGieYaVN",
        "outputId": "08f2b1a6-a3f8-4185-e718-b3068ded960a"
      },
      "execution_count": 57,
      "outputs": [
        {
          "output_type": "execute_result",
          "data": {
            "text/plain": [
              "20.0"
            ]
          },
          "metadata": {},
          "execution_count": 57
        }
      ]
    },
    {
      "cell_type": "markdown",
      "source": [
        "# 20.\n",
        "Write a function called ‘perform_hypothesis_test’ that takes two lists of numbers as input, representing two samples. The function should perform a two-sample t-test and return the p-value. Use the ‘scipy.stats’ module in Python to calculate the t-test and p-value.\n",
        "\n",
        "Example:\n",
        "\n",
        "from scipy import stats\n",
        "\n",
        "def perform_hypothesis_test(sample1, sample2):\n",
        "    t_statistic, p_value = stats.ttest_ind(sample1, sample2)\n",
        "    return p_value\n",
        "\n",
        "sample1 = [5, 10, 15, 20, 25]\n",
        "sample2 = [10, 20, 30, 40, 50]\n",
        "p_value = perform_hypothesis_test(sample1, sample2)\n",
        "print(\"P-value:\", p_value)\n",
        "\n",
        "Output:\n",
        "P-value: 0.1064706396450037\n",
        "8 points\n"
      ],
      "metadata": {
        "id": "D2AGInB6mTsv"
      }
    },
    {
      "cell_type": "code",
      "source": [
        "from scipy.stats import ttest_ind\n",
        "\n",
        "def perform_hypothesis_test(sample1,sample2):\n",
        "  t_statistic, p_value = ttest_ind(sample1, sample2)\n",
        "  return t_statistic, p_value"
      ],
      "metadata": {
        "id": "nU3bFouPk3ly"
      },
      "execution_count": 58,
      "outputs": []
    },
    {
      "cell_type": "code",
      "source": [
        "sample1 = [5, 10, 15, 20, 25]\n",
        "sample2 = [10, 20, 30, 40, 50]\n",
        "\n",
        "value = perform_hypothesis_test(sample1, sample2)\n",
        "print(\"P-value:\", round(value[1],4), \" \\nT-test:\", round(value[0],4))\n"
      ],
      "metadata": {
        "colab": {
          "base_uri": "https://localhost:8080/"
        },
        "id": "5bS-RwoIlA5o",
        "outputId": "e7b68997-eaee-4e36-fa03-1636d1d81bf5"
      },
      "execution_count": 66,
      "outputs": [
        {
          "output_type": "stream",
          "name": "stdout",
          "text": [
            "P-value: 0.0943  \n",
            "T-test: -1.8974\n"
          ]
        }
      ]
    },
    {
      "cell_type": "code",
      "source": [],
      "metadata": {
        "id": "vkJIsnq6n4p8"
      },
      "execution_count": null,
      "outputs": []
    }
  ]
}