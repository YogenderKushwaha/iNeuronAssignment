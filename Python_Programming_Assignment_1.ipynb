{
  "nbformat": 4,
  "nbformat_minor": 0,
  "metadata": {
    "colab": {
      "provenance": [],
      "authorship_tag": "ABX9TyNZMvduJS+Nl/BTYGmtmU6r"
    },
    "kernelspec": {
      "name": "python3",
      "display_name": "Python 3"
    },
    "language_info": {
      "name": "python"
    }
  },
  "cells": [
    {
      "cell_type": "markdown",
      "source": [
        "1.\tWrite a Python program to print \"Hello Python\"?\n",
        "2.\tWrite a Python program to do arithmetical operations addition and division.?\n",
        "3.\tWrite a Python program to find the area of a triangle?\n",
        "4.\tWrite a Python program to swap two variables?\n",
        "5.\tWrite a Python program to generate a random number?"
      ],
      "metadata": {
        "id": "lbPvy-tFCHkt"
      }
    },
    {
      "cell_type": "code",
      "source": [
        "#1\n",
        "print(\"Hello Python\")"
      ],
      "metadata": {
        "colab": {
          "base_uri": "https://localhost:8080/"
        },
        "id": "cfa8lgH2CLcn",
        "outputId": "949ed6dd-44da-4198-8758-1d189abccf91"
      },
      "execution_count": 1,
      "outputs": [
        {
          "output_type": "stream",
          "name": "stdout",
          "text": [
            "Hello Python\n"
          ]
        }
      ]
    },
    {
      "cell_type": "code",
      "source": [
        "#2\n",
        "a = 2\n",
        "b = 3\n",
        "c = a+b \n",
        "d = a/b\n",
        "print(c,\",\",d)"
      ],
      "metadata": {
        "colab": {
          "base_uri": "https://localhost:8080/"
        },
        "id": "4dcx8sCdD9Gb",
        "outputId": "b219f333-80c6-46f2-db51-4fda5e7ddc42"
      },
      "execution_count": 5,
      "outputs": [
        {
          "output_type": "stream",
          "name": "stdout",
          "text": [
            "5 , 0.6666666666666666\n"
          ]
        }
      ]
    },
    {
      "cell_type": "code",
      "source": [
        "#3\n",
        "l = 3\n",
        "h =2\n",
        "t = 0.5*l*h\n",
        "print(t)"
      ],
      "metadata": {
        "colab": {
          "base_uri": "https://localhost:8080/"
        },
        "id": "VC6pjrH8EQzl",
        "outputId": "d61fd22c-8e65-4044-8c7b-4a06faa7a28e"
      },
      "execution_count": 6,
      "outputs": [
        {
          "output_type": "stream",
          "name": "stdout",
          "text": [
            "3.0\n"
          ]
        }
      ]
    },
    {
      "cell_type": "code",
      "source": [
        "#4\n",
        "a = 3\n",
        "b =4\n",
        "c=a\n",
        "a =b\n",
        "b=c\n",
        "print(a,b)"
      ],
      "metadata": {
        "colab": {
          "base_uri": "https://localhost:8080/"
        },
        "id": "o8mJeM2LEjjP",
        "outputId": "dec60ed5-6aab-49f9-c437-cce8c3d5eecb"
      },
      "execution_count": 8,
      "outputs": [
        {
          "output_type": "stream",
          "name": "stdout",
          "text": [
            "4 3\n"
          ]
        }
      ]
    },
    {
      "cell_type": "code",
      "source": [
        "#5\n",
        "import random as r\n",
        "r.randint(0,100)"
      ],
      "metadata": {
        "colab": {
          "base_uri": "https://localhost:8080/"
        },
        "id": "2L9-8u4jHBrC",
        "outputId": "74ecbfdc-b01f-4f63-e321-bfcdbf7be7d2"
      },
      "execution_count": 11,
      "outputs": [
        {
          "output_type": "execute_result",
          "data": {
            "text/plain": [
              "53"
            ]
          },
          "metadata": {},
          "execution_count": 11
        }
      ]
    },
    {
      "cell_type": "code",
      "source": [],
      "metadata": {
        "id": "m9NhkIx3HTGQ"
      },
      "execution_count": null,
      "outputs": []
    }
  ]
}