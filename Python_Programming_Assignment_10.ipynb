{
  "nbformat": 4,
  "nbformat_minor": 0,
  "metadata": {
    "colab": {
      "provenance": [],
      "authorship_tag": "ABX9TyM9b1x02wM0H+mH1K7Iva9y"
    },
    "kernelspec": {
      "name": "python3",
      "display_name": "Python 3"
    },
    "language_info": {
      "name": "python"
    }
  },
  "cells": [
    {
      "cell_type": "markdown",
      "source": [
        "1. Write a Python program to find sum of elements in list?\n",
        "2. Write a Python program to Multiply all numbers in the list?\n",
        "3. Write a Python program to find smallest number in a list?\n",
        "4. Write a Python program to find largest number in a list?\n",
        "5. Write a Python program to find second largest number in a list?\n",
        "6. Write a Python program to find N largest elements from a list?\n",
        "7. Write a Python program to print even numbers in a list?\n",
        "8. Write a Python program to print odd numbers in a List?\n",
        "9. Write a Python program to Remove empty List from List?\n",
        "10. Write a Python program to Cloning or Copying a list?\n",
        "11. Write a Python program to Count occurrences of an element in a list?"
      ],
      "metadata": {
        "id": "_Rzh4JQhCysX"
      }
    },
    {
      "cell_type": "code",
      "execution_count": 2,
      "metadata": {
        "colab": {
          "base_uri": "https://localhost:8080/"
        },
        "id": "sr1iXJS5Cs3j",
        "outputId": "fbd93520-9b1c-4905-a580-b993d5b76f02"
      },
      "outputs": [
        {
          "output_type": "execute_result",
          "data": {
            "text/plain": [
              "43"
            ]
          },
          "metadata": {},
          "execution_count": 2
        }
      ],
      "source": [
        "#1. Write a Python program to find sum of elements in list?\n",
        "\n",
        "a= [1,2,4,5,6,7,8,10]\n",
        "sum = 0\n",
        "for i in a:\n",
        "  sum = sum + i\n",
        "sum  "
      ]
    },
    {
      "cell_type": "code",
      "source": [
        "#2. Write a Python program to Multiply all numbers in the list?\n",
        "a= [1,2,4,5,6,7,8,10]\n",
        "product = 1\n",
        "for i  in a:\n",
        "  product = product*i\n",
        "product"
      ],
      "metadata": {
        "colab": {
          "base_uri": "https://localhost:8080/"
        },
        "id": "UowCWf8J4GnI",
        "outputId": "4cab5f6d-0aa5-42c1-9ecc-2e3c643346c8"
      },
      "execution_count": 5,
      "outputs": [
        {
          "output_type": "execute_result",
          "data": {
            "text/plain": [
              "134400"
            ]
          },
          "metadata": {},
          "execution_count": 5
        }
      ]
    },
    {
      "cell_type": "code",
      "source": [
        "#3. Write a Python program to find smallest number in a list?\n",
        "\n",
        "a= [11,168,34,6,26,77,88,10,16,9]\n",
        "s = a[0]\n",
        "for i in range(1,len(a)):\n",
        "  if s > a[i]:\n",
        "    s = a[i]\n",
        "  \n",
        "s"
      ],
      "metadata": {
        "colab": {
          "base_uri": "https://localhost:8080/"
        },
        "id": "tBqVr-VN4doz",
        "outputId": "2a31782f-942a-4b20-8749-b5aabee6a505"
      },
      "execution_count": 16,
      "outputs": [
        {
          "output_type": "execute_result",
          "data": {
            "text/plain": [
              "6"
            ]
          },
          "metadata": {},
          "execution_count": 16
        }
      ]
    },
    {
      "cell_type": "code",
      "source": [
        "#4. Write a Python program to find largest number in a list?\n",
        "\n",
        "a= [11,168,34,6,26,77,88,10,16,9]\n",
        "l = a[0]\n",
        "for i in range(1,len(a)):\n",
        "  if l < a[i]:\n",
        "    l = a[i]\n",
        "  \n",
        "l"
      ],
      "metadata": {
        "colab": {
          "base_uri": "https://localhost:8080/"
        },
        "id": "EUzoRNgg5c4B",
        "outputId": "c0bebd9f-fe4a-4947-bf62-84ef0b427774"
      },
      "execution_count": 19,
      "outputs": [
        {
          "output_type": "execute_result",
          "data": {
            "text/plain": [
              "168"
            ]
          },
          "metadata": {},
          "execution_count": 19
        }
      ]
    },
    {
      "cell_type": "code",
      "source": [
        "#5. Write a Python program to find second largest number in a list?\n",
        "\n",
        "a= [11,168,34,6,26,77,88,10,16,9]\n",
        "\n",
        "def second_largest(a):\n",
        "\n",
        "  l = a[0]\n",
        "  for i in range(1,len(a)):\n",
        "    if l < a[i]:\n",
        "      l = a[i]\n",
        "  a.remove(l)   \n",
        "\n",
        "  sl= a[0]\n",
        "\n",
        "  for i in range(1,len(a)):\n",
        "    if sl < a[i]:\n",
        "      sl = a[i]\n",
        "  return sl\n",
        "\n",
        "\n",
        "second_largest(a)"
      ],
      "metadata": {
        "colab": {
          "base_uri": "https://localhost:8080/"
        },
        "id": "5DyaEqsR7Y_e",
        "outputId": "718a34c7-1729-40c7-dd84-eebbf6002b09"
      },
      "execution_count": 32,
      "outputs": [
        {
          "output_type": "execute_result",
          "data": {
            "text/plain": [
              "88"
            ]
          },
          "metadata": {},
          "execution_count": 32
        }
      ]
    },
    {
      "cell_type": "code",
      "source": [
        "#6. Write a Python program to find N largest elements from a list?\n",
        "\n",
        "def n_largest (a,n):\n",
        "  new_list = []\n",
        "  while a:\n",
        "    minimum = a[0]  \n",
        "    for x in a: \n",
        "      if x < minimum:\n",
        "        minimum = x\n",
        "    new_list.append(minimum)\n",
        "    a.remove(minimum)\n",
        "  return new_list[-n]\n",
        "\n",
        "a = [3,7,6,9,5]\n",
        "n =1\n",
        "\n",
        "n_largest(a,n)"
      ],
      "metadata": {
        "colab": {
          "base_uri": "https://localhost:8080/"
        },
        "id": "FpubmpVD7nU1",
        "outputId": "798a09ea-336a-4054-fa64-18429edb36d8"
      },
      "execution_count": 45,
      "outputs": [
        {
          "output_type": "execute_result",
          "data": {
            "text/plain": [
              "9"
            ]
          },
          "metadata": {},
          "execution_count": 45
        }
      ]
    },
    {
      "cell_type": "code",
      "source": [
        "#7. Write a Python program to print even numbers in a list?\n",
        "\n",
        "a= [11,168,34,6,26,77,88,10,16,9]\n",
        "e = []\n",
        "for i in a:\n",
        "  if i % 2 == 0:\n",
        "    e.append(i)\n",
        "\n",
        "e\n"
      ],
      "metadata": {
        "colab": {
          "base_uri": "https://localhost:8080/"
        },
        "id": "RqHaYjrL_BYM",
        "outputId": "2ebb02cd-1cf9-4727-89cc-0886344c2c15"
      },
      "execution_count": 46,
      "outputs": [
        {
          "output_type": "execute_result",
          "data": {
            "text/plain": [
              "[168, 34, 6, 26, 88, 10, 16]"
            ]
          },
          "metadata": {},
          "execution_count": 46
        }
      ]
    },
    {
      "cell_type": "code",
      "source": [
        "#8. Write a Python program to print odd numbers in a List?\n",
        "\n",
        "a= [11,168,34,6,26,77,88,10,16,9]\n",
        "o = []\n",
        "for i in a:\n",
        "  if i % 2 != 0:\n",
        "    o.append(i)\n",
        "\n",
        "o"
      ],
      "metadata": {
        "colab": {
          "base_uri": "https://localhost:8080/"
        },
        "id": "ZFPHy2gT_CAW",
        "outputId": "e7325e89-e024-4d73-f4e0-17f0483197c2"
      },
      "execution_count": 49,
      "outputs": [
        {
          "output_type": "execute_result",
          "data": {
            "text/plain": [
              "[11, 77, 9]"
            ]
          },
          "metadata": {},
          "execution_count": 49
        }
      ]
    },
    {
      "cell_type": "code",
      "source": [
        "#9. Write a Python program to Remove empty List from List?\n",
        "a= [[1,2,4],[3,4],[],[2,3]]\n",
        "for i in a:\n",
        "  if len(i)== 0:\n",
        "    a.remove(i)\n",
        "a"
      ],
      "metadata": {
        "colab": {
          "base_uri": "https://localhost:8080/"
        },
        "id": "mpwxG-7aEtDz",
        "outputId": "2671aa3a-2ac8-427c-cea9-2963bc154450"
      },
      "execution_count": 51,
      "outputs": [
        {
          "output_type": "execute_result",
          "data": {
            "text/plain": [
              "[[1, 2, 4], [3, 4], [2, 3]]"
            ]
          },
          "metadata": {},
          "execution_count": 51
        }
      ]
    },
    {
      "cell_type": "code",
      "source": [
        "#10. Write a Python program to Cloning or Copying a list?\n",
        "\n",
        "a= [2,4,5,6,6,7]\n",
        "clone = []\n",
        "for i in a:\n",
        "  clone.append(i)\n",
        "\n",
        "clone\n"
      ],
      "metadata": {
        "colab": {
          "base_uri": "https://localhost:8080/"
        },
        "id": "6YmtPmKoEt3f",
        "outputId": "181419a0-8562-4083-eab6-6c3df9a07d32"
      },
      "execution_count": 52,
      "outputs": [
        {
          "output_type": "execute_result",
          "data": {
            "text/plain": [
              "[2, 4, 5, 6, 6, 7]"
            ]
          },
          "metadata": {},
          "execution_count": 52
        }
      ]
    },
    {
      "cell_type": "code",
      "source": [
        "#11. Write a Python program to Count occurrences of an element in a list?\n",
        "\n",
        "a= [2,5,4,5,5,5,6,6,6]\n",
        "occurance_element =  5\n",
        "sum =0\n",
        "for i in a:\n",
        "  if i == occurance_element:\n",
        "    sum = sum+1\n",
        "print(\"The Occurances for\", occurance_element, \"is: \",sum)"
      ],
      "metadata": {
        "colab": {
          "base_uri": "https://localhost:8080/"
        },
        "id": "C98hbY5JEtuq",
        "outputId": "1470c7ee-77e8-4818-8186-5ff27ae1cc90"
      },
      "execution_count": 55,
      "outputs": [
        {
          "output_type": "stream",
          "name": "stdout",
          "text": [
            "The Occurances for 5 is:  4\n"
          ]
        }
      ]
    },
    {
      "cell_type": "code",
      "source": [],
      "metadata": {
        "id": "_MuU0XkNEtkO"
      },
      "execution_count": null,
      "outputs": []
    }
  ]
}