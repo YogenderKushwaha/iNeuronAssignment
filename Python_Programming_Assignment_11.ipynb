{
  "nbformat": 4,
  "nbformat_minor": 0,
  "metadata": {
    "colab": {
      "provenance": [],
      "authorship_tag": "ABX9TyOEieL6bhV0JBDYumthm8ag"
    },
    "kernelspec": {
      "name": "python3",
      "display_name": "Python 3"
    },
    "language_info": {
      "name": "python"
    }
  },
  "cells": [
    {
      "cell_type": "markdown",
      "source": [
        "1. Write a Python program to find words which are greater than given length k?\n",
        "2. Write a Python program for removing i-th character from a string?\n",
        "3. Write a Python program to split and join a string?\n",
        "4. Write a Python to check if a given string is binary string or not?\n",
        "5. Write a Python program to find uncommon words from two Strings?\n",
        "6. Write a Python to find all duplicate characters in string?\n",
        "7. Write a Python Program to check if a string contains any special character?"
      ],
      "metadata": {
        "id": "xgc-Ce6IDFHw"
      }
    },
    {
      "cell_type": "code",
      "execution_count": 4,
      "metadata": {
        "colab": {
          "base_uri": "https://localhost:8080/"
        },
        "id": "e8z3tb7IDDKc",
        "outputId": "9bb9b39f-90d6-4cf1-aa11-a2af0b83c91f"
      },
      "outputs": [
        {
          "output_type": "execute_result",
          "data": {
            "text/plain": [
              "['asdasd', 'reyweq', 'dasad']"
            ]
          },
          "metadata": {},
          "execution_count": 4
        }
      ],
      "source": [
        "#1. Write a Python program to find words which are greater than given length k?\n",
        "\n",
        "a= ['asd',\"asdasd\",\"reyweq\",\"dasad\",\"abc\"]\n",
        "b = []\n",
        "k= 4\n",
        "\n",
        "for i in a:\n",
        "  if len(i) > k:\n",
        "    b.append(i)\n",
        "b"
      ]
    },
    {
      "cell_type": "code",
      "source": [
        "#2. Write a Python program for removing i-th character from a string?\n",
        "\n",
        "a= \"abcdefgh\"\n",
        "new =\"\"\n",
        "i = 5\n",
        "\n",
        "for j in range(len(a)):\n",
        "  if j != i:\n",
        "    new = new+a[j]\n",
        "\n",
        "new"
      ],
      "metadata": {
        "colab": {
          "base_uri": "https://localhost:8080/",
          "height": 36
        },
        "id": "ivHBDMCXHuud",
        "outputId": "fcf71e28-7375-4166-893c-93e48bfe070b"
      },
      "execution_count": 11,
      "outputs": [
        {
          "output_type": "execute_result",
          "data": {
            "text/plain": [
              "'abcdegh'"
            ],
            "application/vnd.google.colaboratory.intrinsic+json": {
              "type": "string"
            }
          },
          "metadata": {},
          "execution_count": 11
        }
      ]
    },
    {
      "cell_type": "code",
      "source": [
        "#3. Write a Python program to split and join a string?\n",
        "\n",
        "#Spliting by space\n",
        "a= \"Hello My Name is Yogender\"\n",
        "new = a.split(' ')\n",
        "new\n",
        "\n",
        "#joining using delimeter\n",
        "\n",
        "join_new = '-'.join(new)\n",
        "join_new"
      ],
      "metadata": {
        "colab": {
          "base_uri": "https://localhost:8080/",
          "height": 36
        },
        "id": "CFIMPKHfIW0i",
        "outputId": "8c5b8beb-205d-439c-fa5f-8d641cca887c"
      },
      "execution_count": 16,
      "outputs": [
        {
          "output_type": "execute_result",
          "data": {
            "text/plain": [
              "'Hello-My-Name-is-Yogender'"
            ],
            "application/vnd.google.colaboratory.intrinsic+json": {
              "type": "string"
            }
          },
          "metadata": {},
          "execution_count": 16
        }
      ]
    },
    {
      "cell_type": "code",
      "source": [
        "#4. Write a Python to check if a given string is binary string or not?\n",
        "\n",
        "a= '0102020020'\n",
        "s =0\n",
        "for i in a:\n",
        "  if i != '1' and i != '0':\n",
        "    break\n",
        "  else:\n",
        "    s = 1\n",
        "\n",
        "if s == 1:\n",
        "  print(\"This is a binary string\")\n",
        "else:\n",
        "  print(\"This is not a binary string\")"
      ],
      "metadata": {
        "colab": {
          "base_uri": "https://localhost:8080/"
        },
        "id": "PE8nP2vRIn-a",
        "outputId": "f0b42b18-a7dd-447c-b897-96342ed58596"
      },
      "execution_count": 23,
      "outputs": [
        {
          "output_type": "stream",
          "name": "stdout",
          "text": [
            "This is a binary string\n"
          ]
        }
      ]
    },
    {
      "cell_type": "code",
      "source": [
        "#5. Write a Python program to find uncommon words from two Strings?\n",
        "a = '1bcd'\n",
        "b= 'acbsd'\n",
        "\n",
        "intersection = set(a) & set(b)\n",
        "union = set(a) | set(b)\n",
        "\n",
        "uncommon = union - intersection\n",
        "uncommon"
      ],
      "metadata": {
        "colab": {
          "base_uri": "https://localhost:8080/"
        },
        "id": "-ANWwQ-MWQCB",
        "outputId": "053864fb-e680-435a-df2e-1a6b96a97065"
      },
      "execution_count": 29,
      "outputs": [
        {
          "output_type": "execute_result",
          "data": {
            "text/plain": [
              "{'1', 'a', 's'}"
            ]
          },
          "metadata": {},
          "execution_count": 29
        }
      ]
    },
    {
      "cell_type": "code",
      "source": [
        "#6. Write a Python to find all duplicate characters in string?\n",
        "\n",
        "a = 'ascdsafaa'\n",
        "b= set(a)\n",
        "l= set()\n",
        "for i in b:\n",
        "  count = 0\n",
        "  for j in range(len(a)):\n",
        "    if i == a[j]:\n",
        "      count = count +1\n",
        "      if count >= 2:\n",
        "        l.add(i)\n",
        "l"
      ],
      "metadata": {
        "colab": {
          "base_uri": "https://localhost:8080/"
        },
        "id": "QdZZzOGHYhAe",
        "outputId": "7231a4c1-5597-4adc-bdd7-dddedcd9055a"
      },
      "execution_count": 41,
      "outputs": [
        {
          "output_type": "execute_result",
          "data": {
            "text/plain": [
              "{'a', 's'}"
            ]
          },
          "metadata": {},
          "execution_count": 41
        }
      ]
    },
    {
      "cell_type": "code",
      "source": [
        "#7. Write a Python Program to check if a string contains any special character?\n",
        "\n",
        "a = '''!@#$%^&*()<>?\"'''\n",
        "b= \"Hello\"\n",
        "sum =1\n",
        "l= set()\n",
        "for i in b:\n",
        "  count = 0\n",
        "  for j in range(len(a)):\n",
        "    if i == a[j]:\n",
        "      sum = 0\n",
        "      print(\"There is a Special Character in the string\")\n",
        "      break\n",
        "    \n",
        "if sum == 1:\n",
        "  print(\"There is no special character in the string\")"
      ],
      "metadata": {
        "colab": {
          "base_uri": "https://localhost:8080/"
        },
        "id": "7D5NRpxBacgK",
        "outputId": "1db29fc6-eafc-4918-aab9-5dea856f89ed"
      },
      "execution_count": 45,
      "outputs": [
        {
          "output_type": "stream",
          "name": "stdout",
          "text": [
            "There is no special character in the string\n"
          ]
        }
      ]
    },
    {
      "cell_type": "code",
      "source": [],
      "metadata": {
        "id": "7XcR1SRObUCV"
      },
      "execution_count": null,
      "outputs": []
    }
  ]
}