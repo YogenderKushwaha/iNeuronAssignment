{
  "nbformat": 4,
  "nbformat_minor": 0,
  "metadata": {
    "colab": {
      "provenance": [],
      "authorship_tag": "ABX9TyM8IiaX/4pLZzewnHrFv9EQ"
    },
    "kernelspec": {
      "name": "python3",
      "display_name": "Python 3"
    },
    "language_info": {
      "name": "python"
    }
  },
  "cells": [
    {
      "cell_type": "markdown",
      "source": [
        "1.\tWrite a Python program to convert kilometers to miles?\n",
        "2.\tWrite a Python program to convert Celsius to Fahrenheit?\n",
        "3.\tWrite a Python program to display calendar?\n",
        "4.\tWrite a Python program to solve quadratic equation?\n",
        "5.\tWrite a Python program to swap two variables without temp variable?\n"
      ],
      "metadata": {
        "id": "VT2C_A8wIt0-"
      }
    },
    {
      "cell_type": "code",
      "source": [
        "#1\n",
        "#1km =0.621371miles\n",
        "km = float(input(\"Enter Kilometers: \"))\n",
        "conv = km*0.621371\n",
        "print(\"In \",km,\"km there are \",conv,\"miles\")"
      ],
      "metadata": {
        "colab": {
          "base_uri": "https://localhost:8080/"
        },
        "id": "1Vwce__lIu-u",
        "outputId": "94c8a3dc-21b1-4cdc-af9f-4c50ca38978a"
      },
      "execution_count": 5,
      "outputs": [
        {
          "output_type": "stream",
          "name": "stdout",
          "text": [
            "Enter Kilometers: 10\n",
            "In  10.0 km there are  6.21371 miles\n"
          ]
        }
      ]
    },
    {
      "cell_type": "code",
      "source": [
        "#2\n",
        "cel = float(input(\"Enter the tempeature in Degree Celcius: \"))\n",
        "far = cel*1.8 + 32\n",
        "print(cel, \"Degree Celcius is equal to \",round(far,2),\"fahrenheit\")"
      ],
      "metadata": {
        "colab": {
          "base_uri": "https://localhost:8080/"
        },
        "id": "rvfuLujdNdHF",
        "outputId": "1821a9e6-8cf1-46a4-8d16-8195c798bfa7"
      },
      "execution_count": 8,
      "outputs": [
        {
          "output_type": "stream",
          "name": "stdout",
          "text": [
            "Enter the tempeature in Degree Celcius: 37\n",
            "37.0 Degree Celcius is equal to  98.6 fahrenheit\n"
          ]
        }
      ]
    },
    {
      "cell_type": "code",
      "source": [
        "#3\n",
        "# importing calendar module\n",
        "import calendar\n",
        "\n",
        "yy = int(input(\"Enter year: \"))\n",
        "mm = int(input(\"Enter month: \"))  \n",
        "\n",
        "print(calendar.month(yy, mm))"
      ],
      "metadata": {
        "colab": {
          "base_uri": "https://localhost:8080/"
        },
        "id": "K4gYX3Z6O5nZ",
        "outputId": "8429f890-801e-444b-8a89-281379227c88"
      },
      "execution_count": 12,
      "outputs": [
        {
          "output_type": "stream",
          "name": "stdout",
          "text": [
            "Enter year: 1998\n",
            "Enter month: 2\n",
            "   February 1998\n",
            "Mo Tu We Th Fr Sa Su\n",
            "                   1\n",
            " 2  3  4  5  6  7  8\n",
            " 9 10 11 12 13 14 15\n",
            "16 17 18 19 20 21 22\n",
            "23 24 25 26 27 28\n",
            "\n"
          ]
        }
      ]
    },
    {
      "cell_type": "code",
      "source": [
        "#4 \n",
        "#quadratic equation is ax**2 + bx + c = 0\n",
        "import cmath as cm\n",
        "\n",
        "a = 1\n",
        "b = 5\n",
        "c = 6\n",
        "\n",
        "# calculate the discriminant\n",
        "d = (b**2) - (4*a*c)\n",
        "\n",
        "# find two solutions\n",
        "sol1 = (-b-cm.sqrt(d))/(2*a)\n",
        "sol2 = (-b+cm.sqrt(d))/(2*a)\n",
        "\n",
        "print('The solution are {0} and {1}'.format(sol1,sol2))"
      ],
      "metadata": {
        "colab": {
          "base_uri": "https://localhost:8080/"
        },
        "id": "-S4OB9UWPUrG",
        "outputId": "2e7997bf-a2cc-4bf8-d2e9-a08f4f4b2db7"
      },
      "execution_count": 13,
      "outputs": [
        {
          "output_type": "stream",
          "name": "stdout",
          "text": [
            "The solution are (-3+0j) and (-2+0j)\n"
          ]
        }
      ]
    },
    {
      "cell_type": "code",
      "source": [
        "#5\n",
        "\n",
        "a =5\n",
        "b =2\n",
        "\n",
        "a = a + b\n",
        "b = a - b\n",
        "a = a - b\n",
        "\n",
        "print (\"a =\",a,\"b =\",b)"
      ],
      "metadata": {
        "colab": {
          "base_uri": "https://localhost:8080/"
        },
        "id": "OTXm8s3WQiI7",
        "outputId": "20a4b29c-32f9-4363-9a15-d5eb506a0dff"
      },
      "execution_count": 16,
      "outputs": [
        {
          "output_type": "stream",
          "name": "stdout",
          "text": [
            "a = 2 b = 5\n"
          ]
        }
      ]
    },
    {
      "cell_type": "code",
      "source": [],
      "metadata": {
        "id": "Z4R3CA6TRmOi"
      },
      "execution_count": null,
      "outputs": []
    }
  ]
}