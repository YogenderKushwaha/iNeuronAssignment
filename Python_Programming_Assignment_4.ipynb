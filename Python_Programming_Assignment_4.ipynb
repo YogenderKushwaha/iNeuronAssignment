{
  "nbformat": 4,
  "nbformat_minor": 0,
  "metadata": {
    "colab": {
      "provenance": [],
      "authorship_tag": "ABX9TyPLPsp4PQeTyvo9m3RDf8D3"
    },
    "kernelspec": {
      "name": "python3",
      "display_name": "Python 3"
    },
    "language_info": {
      "name": "python"
    }
  },
  "cells": [
    {
      "cell_type": "markdown",
      "source": [
        "1.\tWrite a Python Program to Find the Factorial of a Number?\n",
        "2.\tWrite a Python Program to Display the multiplication Table?\n",
        "3.\tWrite a Python Program to Print the Fibonacci sequence?\n",
        "4.\tWrite a Python Program to Check Armstrong Number?\n",
        "5.\tWrite a Python Program to Find Armstrong Number in an Interval?\n",
        "6.\tWrite a Python Program to Find the Sum of Natural Numbers?\n"
      ],
      "metadata": {
        "id": "FhgxenLtXWpU"
      }
    },
    {
      "cell_type": "code",
      "source": [
        "#1\n",
        "a = int(input(\"Enter the number you want the factorial: \"))\n",
        "fact = 1\n",
        "if (a>0):\n",
        "  for i in range(1,a+1):\n",
        "    fact = fact*i\n",
        "  print(\"The factorial of\",a, \"is: \", fact)\n",
        "elif (a== 0):\n",
        "  print(\"The factorial of 0 is 1\")  \n",
        "else:\n",
        "  print(\"You can find factorial for only positive numbers\")"
      ],
      "metadata": {
        "colab": {
          "base_uri": "https://localhost:8080/"
        },
        "id": "-zzYUQRsXXln",
        "outputId": "db5c81c8-4910-4a55-a921-31b8762cff8b"
      },
      "execution_count": 13,
      "outputs": [
        {
          "output_type": "stream",
          "name": "stdout",
          "text": [
            "Enter the number you want the factorial: 5\n",
            "The factorila of 5 is:  120\n"
          ]
        }
      ]
    },
    {
      "cell_type": "code",
      "source": [
        "#2\n",
        "table = int(input(\"Enter the number you want to print table: \"))\n",
        "for i in range(1, 11): \n",
        "  print(table,\"x\",i,\"=\",table*i)\n"
      ],
      "metadata": {
        "colab": {
          "base_uri": "https://localhost:8080/"
        },
        "id": "ftr7wqKkbnGt",
        "outputId": "8340a6c1-d14b-4632-a773-8f6ce40469ea"
      },
      "execution_count": 24,
      "outputs": [
        {
          "output_type": "stream",
          "name": "stdout",
          "text": [
            "Enter the number you want to print table: 4\n",
            "4 x 1 = 4\n",
            "4 x 2 = 8\n",
            "4 x 3 = 12\n",
            "4 x 4 = 16\n",
            "4 x 5 = 20\n",
            "4 x 6 = 24\n",
            "4 x 7 = 28\n",
            "4 x 8 = 32\n",
            "4 x 9 = 36\n",
            "4 x 10 = 40\n"
          ]
        }
      ]
    },
    {
      "cell_type": "code",
      "source": [
        "#3\n",
        "\n",
        "nterms = int(input(\"How many terms? \"))\n",
        "\n",
        "# first two terms\n",
        "n1, n2 = 0, 1\n",
        "count = 0\n",
        "\n",
        "# check if the number of terms is valid\n",
        "if nterms <= 0:\n",
        "   print(\"Please enter a positive integer\")\n",
        "# if there is only one term, return n1\n",
        "elif nterms == 1:\n",
        "   print(\"Fibonacci sequence upto\",nterms,\":\")\n",
        "   print(n1)\n",
        "# generate fibonacci sequence\n",
        "else:\n",
        "   print(\"Fibonacci sequence:\")\n",
        "   while count < nterms:\n",
        "       print(n1)\n",
        "       nth = n1 + n2\n",
        "       # update values\n",
        "       n1 = n2\n",
        "       n2 = nth\n",
        "       count += 1"
      ],
      "metadata": {
        "colab": {
          "base_uri": "https://localhost:8080/"
        },
        "id": "a_DK6CRxgeOV",
        "outputId": "e80705a8-32e7-45bf-9e84-d7dbf24a73b6"
      },
      "execution_count": 1,
      "outputs": [
        {
          "output_type": "stream",
          "name": "stdout",
          "text": [
            "How many terms? 6\n",
            "Fibonacci sequence:\n",
            "0\n",
            "1\n",
            "1\n",
            "2\n",
            "3\n",
            "5\n"
          ]
        }
      ]
    },
    {
      "cell_type": "code",
      "source": [
        "#4\n",
        "import math\n",
        "\n",
        "a = str(input(\"Enter the number you want to check: \"))\n",
        "length = len(a)\n",
        "sum = 0\n",
        "for i in a:\n",
        "  prod = math.pow(int(i), length)\n",
        "  sum = sum + prod  \n",
        "if(int(a) == round(sum)):\n",
        "  print(\"This is a Armstrong NUmber\")\n",
        "else:\n",
        "  print(\"This is not a Armstrong number\")\n"
      ],
      "metadata": {
        "colab": {
          "base_uri": "https://localhost:8080/"
        },
        "id": "n_uFkQJxz2oi",
        "outputId": "cd48671c-0552-4614-9915-3d98abe8a6e7"
      },
      "execution_count": 23,
      "outputs": [
        {
          "output_type": "stream",
          "name": "stdout",
          "text": [
            "Enter the number you want to check: 153\n",
            "This is a Armstrong NUmber\n"
          ]
        }
      ]
    },
    {
      "cell_type": "code",
      "source": [
        "#5\n",
        "import math\n",
        "\n",
        "start = int(input(\"Enter the starting number of the range: \"))\n",
        "end = int(input(\"Enter the ending number of the range: \"))\n",
        "l = list(range(start,end+1))\n",
        "arm = []\n",
        "for j in l:\n",
        "  length = len(str(j))\n",
        "  a = str(j)\n",
        "  sum = 0\n",
        "  for i in a:\n",
        "    prod = math.pow(int(i), length)\n",
        "    sum = sum + prod\n",
        "  if(int(a) == round(sum)):\n",
        "    arm.append(round(sum))\n",
        "print(\"These numbers are the Armstrong Numbers: \",arm)"
      ],
      "metadata": {
        "colab": {
          "base_uri": "https://localhost:8080/"
        },
        "id": "MaJY067jSMds",
        "outputId": "42dd0b31-d16b-46ad-e498-e9fa48691c5b"
      },
      "execution_count": 41,
      "outputs": [
        {
          "output_type": "stream",
          "name": "stdout",
          "text": [
            "Enter the starting number of the range: 1\n",
            "Enter the ending number of the range: 10000\n",
            "These numbers are the Armstrong Numbers:  [1, 2, 3, 4, 5, 6, 7, 8, 9, 153, 370, 371, 407, 1634, 8208, 9474]\n"
          ]
        }
      ]
    },
    {
      "cell_type": "code",
      "source": [
        "#6\n",
        "n= int(input(\"Enter the number you wanted the sum upto: \"))\n",
        "sum =0\n",
        "if n >= 0:\n",
        "  for i in range(1,n+1):\n",
        "    sum = sum+i\n",
        "  print(\"The sum is: \",sum)\n",
        "else:\n",
        "  print(\"Please enter a Natural number\")\n"
      ],
      "metadata": {
        "colab": {
          "base_uri": "https://localhost:8080/"
        },
        "id": "iXjSPrtGS11x",
        "outputId": "a43a56c4-ab50-403d-8070-2a2dc5bb2e77"
      },
      "execution_count": 44,
      "outputs": [
        {
          "output_type": "stream",
          "name": "stdout",
          "text": [
            "Enter the number you wanted the sum upto: 100\n",
            "The sum is:  5050\n"
          ]
        }
      ]
    },
    {
      "cell_type": "code",
      "source": [],
      "metadata": {
        "id": "zHLtqGjrTcui"
      },
      "execution_count": 44,
      "outputs": []
    },
    {
      "cell_type": "code",
      "source": [],
      "metadata": {
        "id": "3Rzw8lErVfuY"
      },
      "execution_count": null,
      "outputs": []
    }
  ]
}