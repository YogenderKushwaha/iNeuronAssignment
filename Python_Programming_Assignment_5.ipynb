{
  "nbformat": 4,
  "nbformat_minor": 0,
  "metadata": {
    "colab": {
      "provenance": [],
      "authorship_tag": "ABX9TyNF9kcQ5bAyXvurVvB/zXyK",
      "include_colab_link": true
    },
    "kernelspec": {
      "name": "python3",
      "display_name": "Python 3"
    },
    "language_info": {
      "name": "python"
    }
  },
  "cells": [
    {
      "cell_type": "markdown",
      "metadata": {
        "id": "view-in-github",
        "colab_type": "text"
      },
      "source": [
        "<a href=\"https://colab.research.google.com/github/YogenderKushwaha/iNeuronAssignment/blob/main/Python_Programming_Assignment_5.ipynb\" target=\"_parent\"><img src=\"https://colab.research.google.com/assets/colab-badge.svg\" alt=\"Open In Colab\"/></a>"
      ]
    },
    {
      "cell_type": "markdown",
      "source": [
        "1.\tWrite a Python Program to Find LCM?\n",
        "2.\tWrite a Python Program to Find HCF?\n",
        "3.\tWrite a Python Program to Convert Decimal to Binary, Octal and Hexadecimal?\n",
        "4.\tWrite a Python Program To Find ASCII value of a character?\n",
        "5.\tWrite a Python Program to Make a Simple Calculator with 4 basic mathematical operations?\n"
      ],
      "metadata": {
        "id": "bRdemtFtam5q"
      }
    },
    {
      "cell_type": "code",
      "source": [
        "#1\n",
        "a= int(input(\"Enter the 1st number you want LCM of: \"))\n",
        "b= int(input(\"Enter the 2nd number you want LCM of: \"))\n",
        "a_ml = []\n",
        "b_ml = []\n",
        "for i in range(1,b+1):\n",
        "  am = a*i\n",
        "  a_ml.append(am)\n",
        "for i in range(1,a+1):\n",
        "  bm = b*i\n",
        "  b_ml.append(bm)\n",
        "\n",
        "for i in a_ml:\n",
        "  for j in b_ml:\n",
        "    if (i == j):\n",
        "      print(\"The LCM of both the numbers is: \",i)"
      ],
      "metadata": {
        "colab": {
          "base_uri": "https://localhost:8080/"
        },
        "id": "kj9csXaRanqW",
        "outputId": "77c0d5b0-ed2b-44f2-d2fd-71a8d63eecd7"
      },
      "execution_count": null,
      "outputs": [
        {
          "output_type": "stream",
          "name": "stdout",
          "text": [
            "Enter the 1st number you want LCM of: 7\n",
            "Enter the 2nd number you want LCM of: 9\n",
            "The LCM of both the numbers is:  63\n"
          ]
        }
      ]
    },
    {
      "cell_type": "code",
      "source": [
        "#2\n",
        "a= int(input(\"Enter the 1st number you want HCF of: \"))\n",
        "b= int(input(\"Enter the 2nd number you want HCF of: \"))\n",
        "\n",
        "af,bf =[],[]\n",
        "\n",
        "for i in range(1,a+1):\n",
        "  if(a%i == 0):\n",
        "    af.append(i)\n",
        "\n",
        "for i in range(1,b+1):\n",
        "  if(b%i == 0):\n",
        "    bf.append(i)\n",
        "\n",
        "all = []\n",
        "\n",
        "for i in af:\n",
        "  for j in bf:\n",
        "    if (i == j):\n",
        "      all.append(i)\n",
        "print(\"The HCF of\",a,\"and\",b,\"is:\",max(all))"
      ],
      "metadata": {
        "colab": {
          "base_uri": "https://localhost:8080/"
        },
        "id": "iHps1IYbfk7K",
        "outputId": "73b4dd07-b050-4118-a801-4b0bfcd446e6"
      },
      "execution_count": null,
      "outputs": [
        {
          "output_type": "stream",
          "name": "stdout",
          "text": [
            "Enter the 1st number you want HCF of: 50\n",
            "Enter the 2nd number you want HCF of: 120\n",
            "The HCF of 50 and 120 is: 10\n"
          ]
        }
      ]
    },
    {
      "cell_type": "code",
      "source": [
        "#3\n",
        "dec = int(input(\"Enter a decimal Number to convert: \"))\n",
        "\n",
        "print(\"The decimal value of\", dec, \"is:\")\n",
        "print(bin(dec), \"in binary.\")\n",
        "print(oct(dec), \"in octal.\")\n",
        "print(hex(dec), \"in hexadecimal.\")"
      ],
      "metadata": {
        "colab": {
          "base_uri": "https://localhost:8080/"
        },
        "id": "CoAbIU75joFv",
        "outputId": "ae6e4400-63d7-445d-cf12-ee495aac050a"
      },
      "execution_count": null,
      "outputs": [
        {
          "output_type": "stream",
          "name": "stdout",
          "text": [
            "Enter a decimal Number to convert: 2\n",
            "The decimal value of 2 is:\n",
            "0b10 in binary.\n",
            "0o2 in octal.\n",
            "0x2 in hexadecimal.\n"
          ]
        }
      ]
    },
    {
      "cell_type": "code",
      "source": [
        "#4 \n",
        "a = input(\"Enter the character you want the ASCII Value: \")\n",
        "print(\"The ASCII value of '\" + a + \"' is\", ord(a))\n"
      ],
      "metadata": {
        "colab": {
          "base_uri": "https://localhost:8080/"
        },
        "id": "eYZdFGPYryBf",
        "outputId": "e5213458-b80c-4803-ae29-7d8fb6902048"
      },
      "execution_count": null,
      "outputs": [
        {
          "output_type": "stream",
          "name": "stdout",
          "text": [
            "Enter the character you want the ASCII Value: r\n",
            "The ASCII value of 'r' is 114\n"
          ]
        }
      ]
    },
    {
      "cell_type": "code",
      "source": [
        "#5\n",
        "n1 =int(input(\"Enter the 1st number: \"))\n",
        "n2 = int(input(\"Enter the 2nd number: \"))\n",
        "\n",
        "print(\"Addition: \",(n1 + n2))\n",
        "print(\"Subtraction: \",(n1 - n2))\n",
        "print(\"Multiplication: \",(n1*n2))\n",
        "print(\"Division: \", (n1/n2))"
      ],
      "metadata": {
        "colab": {
          "base_uri": "https://localhost:8080/"
        },
        "id": "YjBjuSae_9CP",
        "outputId": "05b71118-19b5-4808-c7c1-49a26e03293e"
      },
      "execution_count": 9,
      "outputs": [
        {
          "output_type": "stream",
          "name": "stdout",
          "text": [
            "Enter the 1st number: 3\n",
            "Enter the 2nd number: 4\n",
            "Addition:  7\n",
            "Subtraction:  -1\n",
            "Multiplication:  12\n",
            "Division:  0.75\n"
          ]
        }
      ]
    },
    {
      "cell_type": "code",
      "source": [],
      "metadata": {
        "id": "XxL1AIvfC4ha"
      },
      "execution_count": null,
      "outputs": []
    },
    {
      "cell_type": "code",
      "source": [],
      "metadata": {
        "id": "0p4tePzIEGcg"
      },
      "execution_count": null,
      "outputs": []
    }
  ]
}