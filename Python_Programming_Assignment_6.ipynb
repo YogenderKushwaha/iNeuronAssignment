{
  "nbformat": 4,
  "nbformat_minor": 0,
  "metadata": {
    "colab": {
      "provenance": [],
      "authorship_tag": "ABX9TyNd5hUylt50lrgtb8Dpg5tZ"
    },
    "kernelspec": {
      "name": "python3",
      "display_name": "Python 3"
    },
    "language_info": {
      "name": "python"
    }
  },
  "cells": [
    {
      "cell_type": "markdown",
      "source": [
        "1. Write a Python Program to Display Fibonacci Sequence Using Recursion?\n",
        "2. Write a Python Program to Find Factorial of Number Using Recursion?\n",
        "3. Write a Python Program to calculate your Body Mass Index?\n",
        "4. Write a Python Program to calculate the natural logarithm of any number?\n",
        "5. Write a Python Program for cube sum of first n natural numbers?"
      ],
      "metadata": {
        "id": "yp_TokncLUGD"
      }
    },
    {
      "cell_type": "code",
      "source": [
        "#1\n",
        "# Program to print the fibonacci series upto n_terms\n",
        " \n",
        "# Recursive function\n",
        "def recursive_fibonacci(n):\n",
        "  if n <= 1:\n",
        "      return n\n",
        "  else:\n",
        "      return(recursive_fibonacci(n-1) + recursive_fibonacci(n-2))\n",
        " \n",
        "n_terms = 10\n",
        " \n",
        "# check if the number of terms is valid\n",
        "if n_terms <= 0:\n",
        "  print(\"Invalid input ! Please input a positive value\")\n",
        "else:\n",
        "  print(\"Fibonacci series:\")\n",
        "for i in range(n_terms):\n",
        "    print(recursive_fibonacci(i))"
      ],
      "metadata": {
        "colab": {
          "base_uri": "https://localhost:8080/"
        },
        "id": "eqV0R0q1LVM_",
        "outputId": "1ade4104-5295-45d6-fcdc-318dd5ff503f"
      },
      "execution_count": null,
      "outputs": [
        {
          "output_type": "stream",
          "name": "stdout",
          "text": [
            "Fibonacci series:\n",
            "0\n",
            "1\n",
            "1\n",
            "2\n",
            "3\n",
            "5\n",
            "8\n",
            "13\n",
            "21\n",
            "34\n"
          ]
        }
      ]
    },
    {
      "cell_type": "code",
      "source": [
        "#2\n",
        "# Factorial of a number using recursion\n",
        "\n",
        "def recur_factorial(n):\n",
        "   if n == 1:\n",
        "       return n\n",
        "   else:\n",
        "       return n*recur_factorial(n-1)\n",
        "\n",
        "num = 3\n",
        "recur_factorial(num)"
      ],
      "metadata": {
        "id": "baYc3qkTZgyM",
        "colab": {
          "base_uri": "https://localhost:8080/"
        },
        "outputId": "a70a8239-d2ee-413b-c082-491d3df8091d"
      },
      "execution_count": 3,
      "outputs": [
        {
          "output_type": "execute_result",
          "data": {
            "text/plain": [
              "6"
            ]
          },
          "metadata": {},
          "execution_count": 3
        }
      ]
    },
    {
      "cell_type": "code",
      "source": [
        "#3\n",
        "# BMI = weight / (height * height)\n",
        "# Weight in KG and Height in Meter\n",
        "\n",
        "w= float(input(\"Enter your weight in KGs: \"))\n",
        "h = float(input(\"Enter your heigt in Meter: \"))\n",
        "bmi = w / (h*h)\n",
        "print(\"BMI IS :\", bmi)"
      ],
      "metadata": {
        "colab": {
          "base_uri": "https://localhost:8080/"
        },
        "id": "YjoSZFoas1wN",
        "outputId": "4b918ff7-3c18-47e9-c832-beb802acc1a6"
      },
      "execution_count": 7,
      "outputs": [
        {
          "output_type": "stream",
          "name": "stdout",
          "text": [
            "Enter your weight in KGs: 60\n",
            "Enter your heigt in Meter: 1.7\n",
            "20.761245674740486\n"
          ]
        }
      ]
    },
    {
      "cell_type": "code",
      "source": [
        "#4\n",
        "import math   \n",
        "\n",
        "print(\"Log value: \", math.log(2))"
      ],
      "metadata": {
        "colab": {
          "base_uri": "https://localhost:8080/"
        },
        "id": "zKX9FTK2t-eF",
        "outputId": "3a351b75-54de-477a-e290-1854c1dcd3f5"
      },
      "execution_count": 8,
      "outputs": [
        {
          "output_type": "stream",
          "name": "stdout",
          "text": [
            "Log value:  0.6931471805599453\n"
          ]
        }
      ]
    },
    {
      "cell_type": "code",
      "source": [
        "#5\n",
        "n =int(input())\n",
        "sum =0\n",
        "for i in range(1,n+1):\n",
        "  sum =sum + i*i*i \n",
        "print(sum)"
      ],
      "metadata": {
        "colab": {
          "base_uri": "https://localhost:8080/"
        },
        "id": "_w2NDS2suDhN",
        "outputId": "a94fe987-5b14-4d62-cb2d-f3b309f7cb52"
      },
      "execution_count": 13,
      "outputs": [
        {
          "output_type": "stream",
          "name": "stdout",
          "text": [
            "5\n",
            "225\n"
          ]
        }
      ]
    },
    {
      "cell_type": "code",
      "source": [],
      "metadata": {
        "id": "KyfH_g17vMEw"
      },
      "execution_count": null,
      "outputs": []
    }
  ]
}