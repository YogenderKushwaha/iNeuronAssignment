{
  "nbformat": 4,
  "nbformat_minor": 0,
  "metadata": {
    "colab": {
      "provenance": [],
      "authorship_tag": "ABX9TyPJCHznGuoaKKh+Pa6fCyFy"
    },
    "kernelspec": {
      "name": "python3",
      "display_name": "Python 3"
    },
    "language_info": {
      "name": "python"
    }
  },
  "cells": [
    {
      "cell_type": "markdown",
      "source": [
        "1. Write a Python Program to find sum of array?\n",
        "2. Write a Python Program to find largest element in an array?\n",
        "3. Write a Python Program for array rotation?\n",
        "4. Write a Python Program to Split the array and add the first part to the end?\n",
        "5. Write a Python Program to check if given array is Monotonic?"
      ],
      "metadata": {
        "id": "-D1u21B4zxyC"
      }
    },
    {
      "cell_type": "code",
      "source": [
        "#1: Sum\n",
        "a= list(range(0, 100,7))\n",
        "print(a)\n",
        "sum = 0\n",
        "for i in a:\n",
        "  sum = i + sum\n",
        "print(\"Sum of the above array is : \", sum)"
      ],
      "metadata": {
        "colab": {
          "base_uri": "https://localhost:8080/"
        },
        "id": "FE8Q76eEzyYm",
        "outputId": "3361bcee-ed0c-45ec-8520-243f49b1868c"
      },
      "execution_count": null,
      "outputs": [
        {
          "output_type": "stream",
          "name": "stdout",
          "text": [
            "[0, 7, 14, 21, 28, 35, 42, 49, 56, 63, 70, 77, 84, 91, 98]\n",
            "Sum of the above array is :  735\n"
          ]
        }
      ]
    },
    {
      "cell_type": "code",
      "source": [
        "#2 1st way: Largest\n",
        "a= [2,12,42,1,32,2,13,87,45]\n",
        "a.sort()\n",
        "a[-1]"
      ],
      "metadata": {
        "colab": {
          "base_uri": "https://localhost:8080/"
        },
        "id": "lwWUunUW0bHw",
        "outputId": "7697694c-7ad7-4254-d1c2-0bd6604820e1"
      },
      "execution_count": null,
      "outputs": [
        {
          "output_type": "execute_result",
          "data": {
            "text/plain": [
              "87"
            ]
          },
          "metadata": {},
          "execution_count": 17
        }
      ]
    },
    {
      "cell_type": "code",
      "source": [
        "#2 2nd way: Largest\n",
        "b = [12,76,14,8,92,76,6,7]\n",
        "a= 0\n",
        "for i in b:\n",
        "  if i > a:\n",
        "    a = i\n",
        "a"
      ],
      "metadata": {
        "colab": {
          "base_uri": "https://localhost:8080/"
        },
        "id": "wc_4SWQnz89O",
        "outputId": "aef28cae-81c1-439b-de0d-6d47fe1f4fa1"
      },
      "execution_count": null,
      "outputs": [
        {
          "output_type": "execute_result",
          "data": {
            "text/plain": [
              "92"
            ]
          },
          "metadata": {},
          "execution_count": 24
        }
      ]
    },
    {
      "cell_type": "code",
      "source": [
        "#3: Rotation by two element\n",
        "\n",
        "a = [2,4,5,6,7,8,10,12]\n",
        "b = []\n",
        "for i in range(2, len(a)):\n",
        "  b.append(a[i])\n",
        "  if len(a) - 2 == len(b):\n",
        "    b.append(a[0])\n",
        "    b.append(a[1])\n",
        "b"
      ],
      "metadata": {
        "id": "5ILxSOgR0Mvj",
        "colab": {
          "base_uri": "https://localhost:8080/"
        },
        "outputId": "97d49254-2498-4cef-ef6e-420e26fa8fd9"
      },
      "execution_count": 2,
      "outputs": [
        {
          "output_type": "execute_result",
          "data": {
            "text/plain": [
              "[5, 6, 7, 8, 10, 12, 2, 4]"
            ]
          },
          "metadata": {},
          "execution_count": 2
        }
      ]
    },
    {
      "cell_type": "code",
      "source": [
        "#4: Split and add\n",
        "\n",
        "a = [1,2,3,4,5,6,7,8,9]\n",
        "n = 2                    # number of elements to be split\n",
        "b = a[0:n]\n",
        "a = a[2:len(a)]\n",
        "a+b"
      ],
      "metadata": {
        "colab": {
          "base_uri": "https://localhost:8080/"
        },
        "id": "ktprsFbxh9Sa",
        "outputId": "c9bcd9b8-be29-441a-d24d-f11537b7945a"
      },
      "execution_count": 10,
      "outputs": [
        {
          "output_type": "execute_result",
          "data": {
            "text/plain": [
              "[3, 4, 5, 6, 7, 8, 9, 1, 2]"
            ]
          },
          "metadata": {},
          "execution_count": 10
        }
      ]
    },
    {
      "cell_type": "code",
      "source": [
        "#5 Monotonic\n",
        "\n",
        "a = [10,9,8,7,6,5,4]\n",
        "def ismonotonus(a):\n",
        "  s1 = 0\n",
        "  s2 = 0\n",
        "  for i in range(1, len(a)):\n",
        "    if (a[i-1]< a[i]):\n",
        "      s1 = 1\n",
        "    else:\n",
        "      s1= 0\n",
        "      break \n",
        "  for i in range(1, len(a)):\n",
        "    if (a[i-1]> a[i]):\n",
        "      s2 = 1\n",
        "    else:\n",
        "      s2 = 0\n",
        "      break  \n",
        "  if s2 == 1 or s1 == 1:\n",
        "    print(\"This is monotonus\")\n",
        "  else:\n",
        "    print(\"This is not a monotonus\" )\n",
        "  \n",
        "ismonotonus(a)  "
      ],
      "metadata": {
        "colab": {
          "base_uri": "https://localhost:8080/"
        },
        "id": "YmQRGrJZjCms",
        "outputId": "584f200a-634d-4be6-cda2-bf9e17d8203c"
      },
      "execution_count": 28,
      "outputs": [
        {
          "output_type": "stream",
          "name": "stdout",
          "text": [
            "This is monotonus\n"
          ]
        }
      ]
    },
    {
      "cell_type": "code",
      "source": [],
      "metadata": {
        "id": "K5kD-buR2qxg"
      },
      "execution_count": null,
      "outputs": []
    }
  ]
}