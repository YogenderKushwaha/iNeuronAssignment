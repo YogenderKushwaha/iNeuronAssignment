{
  "nbformat": 4,
  "nbformat_minor": 0,
  "metadata": {
    "colab": {
      "provenance": [],
      "authorship_tag": "ABX9TyO5Es2wrM7C78KBwYUqyJ2c"
    },
    "kernelspec": {
      "name": "python3",
      "display_name": "Python 3"
    },
    "language_info": {
      "name": "python"
    }
  },
  "cells": [
    {
      "cell_type": "markdown",
      "source": [
        "1. Write a Python Program to Add Two Matrices?\n",
        "2. Write a Python Program to Multiply Two Matrices?\n",
        "3. Write a Python Program to Transpose a Matrix?\n",
        "4. Write a Python Program to Sort Words in Alphabetic Order?\n",
        "5. Write a Python Program to Remove Punctuation From a String?"
      ],
      "metadata": {
        "id": "WG8dVmUtPDYH"
      }
    },
    {
      "cell_type": "code",
      "source": [
        "import numpy as np\n",
        "a1= np.random.randint(low=0, high=8, size=(3, 2))\n",
        "a2= np.random.randint(low=0, high=10, size=(3, 2))\n",
        "a1,a2"
      ],
      "metadata": {
        "colab": {
          "base_uri": "https://localhost:8080/"
        },
        "id": "CFwJVdSFSY2F",
        "outputId": "48de8ca7-103d-46d0-a84e-297d2240c4f2"
      },
      "execution_count": 19,
      "outputs": [
        {
          "output_type": "execute_result",
          "data": {
            "text/plain": [
              "(array([[0, 7],\n",
              "        [0, 7],\n",
              "        [1, 2]]),\n",
              " array([[2, 1],\n",
              "        [4, 2],\n",
              "        [4, 6]]))"
            ]
          },
          "metadata": {},
          "execution_count": 19
        }
      ]
    },
    {
      "cell_type": "code",
      "source": [
        "#1\n",
        "\n",
        "a1+a2"
      ],
      "metadata": {
        "colab": {
          "base_uri": "https://localhost:8080/"
        },
        "id": "JYyDNea9PEKT",
        "outputId": "e39e9c37-d731-4073-a400-924515a670db"
      },
      "execution_count": 20,
      "outputs": [
        {
          "output_type": "execute_result",
          "data": {
            "text/plain": [
              "array([[2, 8],\n",
              "       [4, 9],\n",
              "       [5, 8]])"
            ]
          },
          "metadata": {},
          "execution_count": 20
        }
      ]
    },
    {
      "cell_type": "code",
      "source": [
        "#2\n",
        "\n",
        "a1*a2"
      ],
      "metadata": {
        "colab": {
          "base_uri": "https://localhost:8080/"
        },
        "id": "3QNmUSoIQB-d",
        "outputId": "49429e16-f53b-460f-80ab-62e77d24bb8b"
      },
      "execution_count": 21,
      "outputs": [
        {
          "output_type": "execute_result",
          "data": {
            "text/plain": [
              "array([[ 0,  7],\n",
              "       [ 0, 14],\n",
              "       [ 4, 12]])"
            ]
          },
          "metadata": {},
          "execution_count": 21
        }
      ]
    },
    {
      "cell_type": "code",
      "source": [
        "#3\n",
        "X= np.random.randint(low=0, high=8, size=(3, 2))\n",
        "\n",
        "result = [[X[j][i] for j in range(len(X))] for i in range(len(X[0]))]\n",
        "\n",
        "for r in result:\n",
        "   print(r)"
      ],
      "metadata": {
        "colab": {
          "base_uri": "https://localhost:8080/"
        },
        "id": "DHV06GEWQkZg",
        "outputId": "db161aea-f9fb-48e7-dd37-4d61764bff21"
      },
      "execution_count": 63,
      "outputs": [
        {
          "output_type": "stream",
          "name": "stdout",
          "text": [
            "[5, 1, 2]\n",
            "[0, 0, 2]\n"
          ]
        }
      ]
    },
    {
      "cell_type": "code",
      "source": [
        "#4\n",
        "\n",
        "a= 'ACFEBGHJSJDVCSHJKDJV'\n",
        "c= []\n",
        "d = ''\n",
        "for i in a:\n",
        "  c.append(i)\n",
        "c.sort()\n",
        "for j in c:\n",
        "  d= d + j\n",
        "d"
      ],
      "metadata": {
        "colab": {
          "base_uri": "https://localhost:8080/",
          "height": 36
        },
        "id": "4eGB6CCnT2Gn",
        "outputId": "7f5cf87f-1650-4fa8-fee8-a8e0c13a3ff9"
      },
      "execution_count": 62,
      "outputs": [
        {
          "output_type": "execute_result",
          "data": {
            "text/plain": [
              "'ABCCDDEFGHHJJJJKSSVV'"
            ],
            "application/vnd.google.colaboratory.intrinsic+json": {
              "type": "string"
            }
          },
          "metadata": {},
          "execution_count": 62
        }
      ]
    },
    {
      "cell_type": "code",
      "source": [
        "#5\n",
        "\n",
        "s = \"Hello, how are you ? Github. ;\"\n",
        " \n",
        "# printing original string\n",
        "print(\"The original string is : \" + s)\n",
        " \n",
        "# initializing punctuations string\n",
        "p = '''!()-[]{};:'\"\\,<>./?@#$%^&*_~'''\n",
        " \n",
        "for i in s:\n",
        "    if i in p:\n",
        "        s = s.replace(i, \"\")\n",
        " \n",
        "# result\n",
        "print(\"The string after punctuation filter : \" + s)"
      ],
      "metadata": {
        "colab": {
          "base_uri": "https://localhost:8080/"
        },
        "id": "AJ3cr-HOVkxJ",
        "outputId": "a37a85e7-fdad-46f9-bddb-1f76753b1d8c"
      },
      "execution_count": 64,
      "outputs": [
        {
          "output_type": "stream",
          "name": "stdout",
          "text": [
            "The original string is : Hello, how are you ? Github. ;\n",
            "The string after punctuation filter : Hello how are you  Github \n"
          ]
        }
      ]
    },
    {
      "cell_type": "code",
      "source": [],
      "metadata": {
        "id": "S-qL9kKVWinO"
      },
      "execution_count": 64,
      "outputs": []
    },
    {
      "cell_type": "code",
      "source": [],
      "metadata": {
        "id": "aBLrRSQxWkkX"
      },
      "execution_count": null,
      "outputs": []
    }
  ]
}