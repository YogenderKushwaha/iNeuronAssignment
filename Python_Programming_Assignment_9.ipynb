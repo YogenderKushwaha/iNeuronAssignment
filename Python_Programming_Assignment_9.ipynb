{
  "nbformat": 4,
  "nbformat_minor": 0,
  "metadata": {
    "colab": {
      "provenance": [],
      "authorship_tag": "ABX9TyMITqa7F8yrEg+HlOPKQ3Z7"
    },
    "kernelspec": {
      "name": "python3",
      "display_name": "Python 3"
    },
    "language_info": {
      "name": "python"
    }
  },
  "cells": [
    {
      "cell_type": "markdown",
      "source": [
        "1. Write a Python program to check if the given number is a Disarium Number?\n",
        "2. Write a Python program to print all disarium numbers between 1 to 100?\n",
        "3. Write a Python program to check if the given number is Happy Number?\n",
        "4. Write a Python program to print all happy numbers between 1 and 100?\n",
        "5. Write a Python program to determine whether the given number is a Harshad Number?\n",
        "6. Write a Python program to print all pronic numbers between 1 and 100?"
      ],
      "metadata": {
        "id": "dIxvRxiOPZLi"
      }
    },
    {
      "cell_type": "code",
      "source": [
        "#1\n",
        "\n",
        "a = 135\n",
        "b = str(a)\n",
        "sum = 0\n",
        "j =1\n",
        "for i in b:\n",
        "  sum = sum + int(i)**j\n",
        "  j= j+1\n",
        "if sum == a:\n",
        "  print(\"The number is Disarium\")\n",
        "else:\n",
        "  print(\"It is not\")"
      ],
      "metadata": {
        "colab": {
          "base_uri": "https://localhost:8080/"
        },
        "id": "KGry99BwPZxx",
        "outputId": "24da096c-9ee5-4870-8c76-6ce4cfdebeb7"
      },
      "execution_count": 7,
      "outputs": [
        {
          "output_type": "stream",
          "name": "stdout",
          "text": [
            "The number is Disarium\n"
          ]
        }
      ]
    },
    {
      "cell_type": "code",
      "source": [
        "#2\n",
        "\n",
        "l =[]\n",
        "for i in range(1,1000):\n",
        "  b = str(i)\n",
        "  flag = 1\n",
        "  sum = 0\n",
        "  for j in b:\n",
        "    sum = sum + int(j)**flag\n",
        "    flag= flag+1\n",
        "    if(i > 9 and sum == i):\n",
        "      l.append(i)\n",
        "l"
      ],
      "metadata": {
        "colab": {
          "base_uri": "https://localhost:8080/"
        },
        "id": "x74u2lEzcnJI",
        "outputId": "6034155f-e702-438c-abe2-7db204375e17"
      },
      "execution_count": 10,
      "outputs": [
        {
          "output_type": "execute_result",
          "data": {
            "text/plain": [
              "[89, 135, 175, 518, 598]"
            ]
          },
          "metadata": {},
          "execution_count": 10
        }
      ]
    },
    {
      "cell_type": "code",
      "source": [
        "#3\n",
        "\n",
        "def is_happy_number(n):\n",
        "  b = str(n)\n",
        "  digit_sum = 0\n",
        "  if n == 1:\n",
        "    print(\"True\")\n",
        "    return\n",
        "\n",
        "  for i in b:\n",
        "    digit_sum = digit_sum + int(i)**2\n",
        "  if len(str(digit_sum)) == 1 and digit_sum != 1:\n",
        "    print(\"False\")\n",
        "    return\n",
        "  else:\n",
        "    is_happy_number(digit_sum)\n"
      ],
      "metadata": {
        "id": "yfR7NymZpKOP"
      },
      "execution_count": 61,
      "outputs": []
    },
    {
      "cell_type": "code",
      "source": [
        "# Example usage\n",
        "n = 176\n",
        "is_happy_number(n)"
      ],
      "metadata": {
        "colab": {
          "base_uri": "https://localhost:8080/"
        },
        "id": "sI2UZKF3rOq9",
        "outputId": "344c5478-f21e-451e-d5c0-9e5dd25a8783"
      },
      "execution_count": 62,
      "outputs": [
        {
          "output_type": "stream",
          "name": "stdout",
          "text": [
            "True\n"
          ]
        }
      ]
    },
    {
      "cell_type": "code",
      "source": [
        "#4\n",
        "   \n",
        "def isHappyNumber(num):    \n",
        "  rem = sum = 0;    \n",
        "    \n",
        "  while(num > 0):    \n",
        "    rem = num%10;    \n",
        "    sum = sum + (rem*rem);    \n",
        "    num = num//10;    \n",
        "  return sum;    \n",
        "             \n",
        "print(\"List of happy numbers between 1 and 100: \");  \n",
        "l = []  \n",
        "\n",
        "for i in range(1, 101):    \n",
        "  result = i;    \n",
        "        \n",
        "  while(result != 1 and result != 4):\n",
        "    result = isHappyNumber(result);    \n",
        "        \n",
        "  if(result == 1):    \n",
        "    l.append(i)\n",
        "l"
      ],
      "metadata": {
        "colab": {
          "base_uri": "https://localhost:8080/"
        },
        "id": "ovAguM8TsbzE",
        "outputId": "fe1a9daf-6d3f-459a-e8ca-69d2679bd9c6"
      },
      "execution_count": 18,
      "outputs": [
        {
          "output_type": "stream",
          "name": "stdout",
          "text": [
            "List of happy numbers between 1 and 100: \n"
          ]
        },
        {
          "output_type": "execute_result",
          "data": {
            "text/plain": [
              "[1, 7, 10, 13, 19, 23, 28, 31, 32, 44, 49, 68, 70, 79, 82, 86, 91, 94, 97, 100]"
            ]
          },
          "metadata": {},
          "execution_count": 18
        }
      ]
    },
    {
      "cell_type": "code",
      "source": [
        "#5\n",
        "\n",
        "a = int(input(\"Enter the number you want to check\"))\n",
        "sum =0\n",
        "for i in str(a):\n",
        "  sum = sum + int(i)\n",
        "if (a%sum == 0):\n",
        "  print(\"This is a Harshad Number\")\n",
        "else:\n",
        "  print(\"This is not a Harshad number\")"
      ],
      "metadata": {
        "colab": {
          "base_uri": "https://localhost:8080/"
        },
        "id": "Fw2cHjwkxKoA",
        "outputId": "c1e0dbde-15a9-42e2-96ed-46caaaadea34"
      },
      "execution_count": 21,
      "outputs": [
        {
          "output_type": "stream",
          "name": "stdout",
          "text": [
            "Enter the number you want to check123\n",
            "This is not a Harshad number\n"
          ]
        }
      ]
    },
    {
      "cell_type": "code",
      "source": [
        "#6 \n",
        "\n",
        "def isPronicNumber(num):  \n",
        "  flag = False;  \n",
        "      \n",
        "  for j in range(1, num+1):  \n",
        "    if((j*(j+1)) == num):  \n",
        "      flag = True  \n",
        "      break  \n",
        "  return flag  \n",
        "\n",
        "l= []   \n",
        "print(\"Pronic numbers between 1 and 100: \");  \n",
        "for i in range(1, 101):  \n",
        "  if(isPronicNumber(i)):  \n",
        "    l.append(i)\n",
        "l"
      ],
      "metadata": {
        "colab": {
          "base_uri": "https://localhost:8080/"
        },
        "id": "RCSuIZADxMun",
        "outputId": "4597743f-2da3-4906-84a0-766379e95bb0"
      },
      "execution_count": 3,
      "outputs": [
        {
          "output_type": "stream",
          "name": "stdout",
          "text": [
            "Pronic numbers between 1 and 100: \n"
          ]
        },
        {
          "output_type": "execute_result",
          "data": {
            "text/plain": [
              "[2, 6, 12, 20, 30, 42, 56, 72, 90]"
            ]
          },
          "metadata": {},
          "execution_count": 3
        }
      ]
    },
    {
      "cell_type": "code",
      "source": [],
      "metadata": {
        "id": "vGb0kQF_AyQi"
      },
      "execution_count": null,
      "outputs": []
    }
  ]
}